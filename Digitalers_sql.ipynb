{
  "nbformat": 4,
  "nbformat_minor": 0,
  "metadata": {
    "colab": {
      "provenance": [],
      "authorship_tag": "ABX9TyOuEKv8Mee4+AR5vCmlH7CH",
      "include_colab_link": true
    },
    "kernelspec": {
      "name": "python3",
      "display_name": "Python 3"
    },
    "language_info": {
      "name": "python"
    }
  },
  "cells": [
    {
      "cell_type": "markdown",
      "metadata": {
        "id": "view-in-github",
        "colab_type": "text"
      },
      "source": [
        "<a href=\"https://colab.research.google.com/github/Otto2005/ABP-DataCience-2025/blob/main/Digitalers_sql.ipynb\" target=\"_parent\"><img src=\"https://colab.research.google.com/assets/colab-badge.svg\" alt=\"Open In Colab\"/></a>"
      ]
    },
    {
      "cell_type": "code",
      "source": [
        "import pandas as pd\n",
        "from sklearn.preprocessing import LabelEncoder\n",
        "from sklearn.model_selection import train_test_split, GridSearchCV\n",
        "from sklearn.ensemble import GradientBoostingClassifier\n",
        "from sklearn.metrics import accuracy_score, classification_report\n",
        "\n",
        "# 1. Cargar el conjunto de datos\n",
        "titanic = pd.read_csv('https://raw.githubusercontent.com/datasciencedojo/datasets/master/titanic.csv')\n",
        "\n",
        "# 2. Preprocesamiento y Limpieza de Datos\n",
        "features = [\"Pclass\",\"Sex\",\"Age\",\"SibSp\",\"Parch\",\"Fare\", \"Embarked\"]\n",
        "label = \"Survived\"\n",
        "\n",
        "# Eliminar registros con valores nulos en 'Age' y 'Embarked'\n",
        "titanic = titanic.dropna(subset=[\"Age\", \"Embarked\"])\n",
        "\n",
        "# 3. Ingeniería de Características\n",
        "# Crear una nueva variable 'FamilySize' y 'IsAlone'\n",
        "titanic['FamilySize'] = titanic['SibSp'] + titanic['Parch'] + 1\n",
        "titanic['IsAlone'] = 0\n",
        "titanic.loc[titanic['FamilySize'] == 1, 'IsAlone'] = 1\n",
        "\n",
        "# Extraer el título del nombre y mapearlo a valores numéricos\n",
        "titanic['Title'] = titanic['Name'].apply(lambda name: name.split(',')[1].split('.')[0].strip())\n",
        "title_mapping = {\"Mr\": 1, \"Miss\": 2, \"Mrs\": 3, \"Master\": 4, \"Dr\": 5, \"Rev\": 5, \"Col\": 5, \"Major\": 5, \"Mlle\": 2, \"Ms\": 2, \"Lady\": 5, \"Countess\": 5, \"Capt\": 5, \"Sir\": 5, \"Don\": 5, \"Dona\": 5, \"Jonkheer\": 5}\n",
        "titanic['Title'] = titanic['Title'].map(title_mapping).fillna(0)\n",
        "\n",
        "# 4. Codificar variables categóricas\n",
        "encoder = LabelEncoder()\n",
        "titanic[\"Sex\"] = encoder.fit_transform(titanic[\"Sex\"])\n",
        "titanic[\"Embarked\"] = encoder.fit_transform(titanic[\"Embarked\"])\n",
        "\n",
        "# 5. Definir Features y Label (con las nuevas variables)\n",
        "features = [\"Pclass\",\"Sex\",\"Age\",\"SibSp\",\"Parch\",\"Fare\", \"Embarked\", \"FamilySize\", \"IsAlone\", \"Title\"]\n",
        "X = titanic[features]\n",
        "y = titanic[label]\n",
        "\n",
        "# 6. Separar los datos entre conjuntos de entrenamiento y prueba (70/30)\n",
        "X_train, X_test, y_train, y_test = train_test_split(X, y, test_size=0.3, random_state=42)\n",
        "\n",
        "# 7. Optimización de Hiperparámetros con GridSearchCV\n",
        "# Definir los hiperparámetros que quieres probar\n",
        "param_grid = {\n",
        "    'n_estimators': [100, 200, 300],\n",
        "    'learning_rate': [0.05, 0.1, 0.2],\n",
        "    'max_depth': [3, 4, 5]\n",
        "}\n",
        "\n",
        "# Inicializar el modelo base\n",
        "gb_model = GradientBoostingClassifier(random_state=42)\n",
        "\n",
        "# Configurar la búsqueda por cuadrícula\n",
        "grid_search = GridSearchCV(estimator=gb_model, param_grid=param_grid, cv=5, scoring='accuracy', n_jobs=-1)\n",
        "\n",
        "# Entrenar el modelo con la búsqueda por cuadrícula\n",
        "grid_search.fit(X_train, y_train)\n",
        "\n",
        "# 8. Evaluación del Mejor Modelo\n",
        "best_model = grid_search.best_estimator_\n",
        "y_pred = best_model.predict(X_test)\n",
        "\n",
        "print(\"Mejores Hiperparámetros encontrados:\")\n",
        "print(grid_search.best_params_)\n",
        "print(\"\\nExactitud (Accuracy) del Mejor Modelo:\")\n",
        "print(f\"{accuracy_score(y_test, y_pred):.4f}\")\n",
        "print(\"\\nReporte de Clasificación del Mejor Modelo:\")\n",
        "print(classification_report(y_test, y_pred))"
      ],
      "metadata": {
        "colab": {
          "base_uri": "https://localhost:8080/"
        },
        "id": "xX-HLIPUOrlT",
        "outputId": "5106f638-ee80-4db3-ce35-4b5a9a6d8f9b"
      },
      "execution_count": 34,
      "outputs": [
        {
          "output_type": "stream",
          "name": "stdout",
          "text": [
            "Mejores Hiperparámetros encontrados:\n",
            "{'learning_rate': 0.05, 'max_depth': 3, 'n_estimators': 200}\n",
            "\n",
            "Exactitud (Accuracy) del Mejor Modelo:\n",
            "0.8037\n",
            "\n",
            "Reporte de Clasificación del Mejor Modelo:\n",
            "              precision    recall  f1-score   support\n",
            "\n",
            "           0       0.79      0.89      0.84       122\n",
            "           1       0.82      0.70      0.75        92\n",
            "\n",
            "    accuracy                           0.80       214\n",
            "   macro avg       0.81      0.79      0.80       214\n",
            "weighted avg       0.81      0.80      0.80       214\n",
            "\n"
          ]
        }
      ]
    }
  ]
}